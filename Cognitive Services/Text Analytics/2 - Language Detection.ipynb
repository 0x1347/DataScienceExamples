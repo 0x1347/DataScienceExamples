{
 "cells": [
  {
   "cell_type": "markdown",
   "metadata": {},
   "source": [
    "# Detect Tweet Language"
   ]
  },
  {
   "cell_type": "code",
   "execution_count": 6,
   "metadata": {},
   "outputs": [],
   "source": [
    "import json\n",
    "import pandas as pd\n",
    "import requests\n",
    "\n",
    "config = json.load(open(\"config.json\"))\n",
    "text_analytics_language_url = \"https://westcentralus.api.cognitive.microsoft.com/text/analytics/v2.0/languages\""
   ]
  },
  {
   "cell_type": "code",
   "execution_count": 2,
   "metadata": {},
   "outputs": [
    {
     "data": {
      "text/html": [
       "<div>\n",
       "<style>\n",
       "    .dataframe thead tr:only-child th {\n",
       "        text-align: right;\n",
       "    }\n",
       "\n",
       "    .dataframe thead th {\n",
       "        text-align: left;\n",
       "    }\n",
       "\n",
       "    .dataframe tbody tr th {\n",
       "        vertical-align: top;\n",
       "    }\n",
       "</style>\n",
       "<table border=\"1\" class=\"dataframe\">\n",
       "  <thead>\n",
       "    <tr style=\"text-align: right;\">\n",
       "      <th></th>\n",
       "      <th>author</th>\n",
       "      <th>created_date</th>\n",
       "      <th>text</th>\n",
       "    </tr>\n",
       "  </thead>\n",
       "  <tbody>\n",
       "    <tr>\n",
       "      <th>0</th>\n",
       "      <td>DotNetKicks</td>\n",
       "      <td>2018-03-08 14:01:37</td>\n",
       "      <td>Host a Website with Azure Functions and Node.J...</td>\n",
       "    </tr>\n",
       "    <tr>\n",
       "      <th>1</th>\n",
       "      <td>Dinesh Beniwal</td>\n",
       "      <td>2018-03-08 11:33:30</td>\n",
       "      <td>@CsharpCorner @pmohammedramees @mcbeniwal @str...</td>\n",
       "    </tr>\n",
       "    <tr>\n",
       "      <th>2</th>\n",
       "      <td>Ted Petrou</td>\n",
       "      <td>2018-03-07 18:49:50</td>\n",
       "      <td>Check out my (free) live webinar tomorrow (Thu...</td>\n",
       "    </tr>\n",
       "    <tr>\n",
       "      <th>3</th>\n",
       "      <td>Pablo Diego</td>\n",
       "      <td>2018-03-07 06:13:01</td>\n",
       "      <td>@CsharpCorner @billjwolff @PhillyDotNet @strat...</td>\n",
       "    </tr>\n",
       "    <tr>\n",
       "      <th>4</th>\n",
       "      <td>DotNetKicks</td>\n",
       "      <td>2018-03-07 01:31:14</td>\n",
       "      <td>Beginning Statistics for Data Science: Analyzi...</td>\n",
       "    </tr>\n",
       "  </tbody>\n",
       "</table>\n",
       "</div>"
      ],
      "text/plain": [
       "           author         created_date  \\\n",
       "0     DotNetKicks  2018-03-08 14:01:37   \n",
       "1  Dinesh Beniwal  2018-03-08 11:33:30   \n",
       "2      Ted Petrou  2018-03-07 18:49:50   \n",
       "3     Pablo Diego  2018-03-07 06:13:01   \n",
       "4     DotNetKicks  2018-03-07 01:31:14   \n",
       "\n",
       "                                                text  \n",
       "0  Host a Website with Azure Functions and Node.J...  \n",
       "1  @CsharpCorner @pmohammedramees @mcbeniwal @str...  \n",
       "2  Check out my (free) live webinar tomorrow (Thu...  \n",
       "3  @CsharpCorner @billjwolff @PhillyDotNet @strat...  \n",
       "4  Beginning Statistics for Data Science: Analyzi...  "
      ]
     },
     "execution_count": 2,
     "metadata": {},
     "output_type": "execute_result"
    }
   ],
   "source": [
    "df = pd.read_csv(\"./tweets.csv\")\n",
    "df.head()"
   ]
  },
  {
   "cell_type": "code",
   "execution_count": 3,
   "metadata": {},
   "outputs": [],
   "source": [
    "documents = {\"documents\": []}\n",
    "\n",
    "for item in df.iterrows():\n",
    "    idx, row = item\n",
    "    \n",
    "    documents[\"documents\"].append({\n",
    "        \"id\": str(idx + 1),\n",
    "        \"text\": row[\"text\"]\n",
    "    })"
   ]
  },
  {
   "cell_type": "code",
   "execution_count": 7,
   "metadata": {},
   "outputs": [],
   "source": [
    "headers = {\"Ocp-Apim-Subscription-Key\": config[\"subscriptionKey\"]}\n",
    "response = requests.post(text_analytics_language_url, headers=headers, json=documents)\n",
    "languages = response.json()"
   ]
  },
  {
   "cell_type": "code",
   "execution_count": null,
   "metadata": {},
   "outputs": [],
   "source": [
    "languages"
   ]
  },
  {
   "cell_type": "code",
   "execution_count": null,
   "metadata": {},
   "outputs": [],
   "source": [
    "detected_languages = []\n",
    "for language in languages[\"documents\"]:\n",
    "    for detected in language[\"detectedLanguages\"]:\n",
    "        detected_languages.append(detected[\"iso6391Name\"])\n",
    "        \n",
    "detected_languages"
   ]
  },
  {
   "cell_type": "code",
   "execution_count": 51,
   "metadata": {},
   "outputs": [
    {
     "data": {
      "text/html": [
       "<div>\n",
       "<style>\n",
       "    .dataframe thead tr:only-child th {\n",
       "        text-align: right;\n",
       "    }\n",
       "\n",
       "    .dataframe thead th {\n",
       "        text-align: left;\n",
       "    }\n",
       "\n",
       "    .dataframe tbody tr th {\n",
       "        vertical-align: top;\n",
       "    }\n",
       "</style>\n",
       "<table border=\"1\" class=\"dataframe\">\n",
       "  <thead>\n",
       "    <tr style=\"text-align: right;\">\n",
       "      <th></th>\n",
       "      <th>language</th>\n",
       "    </tr>\n",
       "  </thead>\n",
       "  <tbody>\n",
       "    <tr>\n",
       "      <th>0</th>\n",
       "      <td>en</td>\n",
       "    </tr>\n",
       "    <tr>\n",
       "      <th>1</th>\n",
       "      <td>en</td>\n",
       "    </tr>\n",
       "    <tr>\n",
       "      <th>2</th>\n",
       "      <td>en</td>\n",
       "    </tr>\n",
       "    <tr>\n",
       "      <th>3</th>\n",
       "      <td>en</td>\n",
       "    </tr>\n",
       "    <tr>\n",
       "      <th>4</th>\n",
       "      <td>en</td>\n",
       "    </tr>\n",
       "  </tbody>\n",
       "</table>\n",
       "</div>"
      ],
      "text/plain": [
       "  language\n",
       "0       en\n",
       "1       en\n",
       "2       en\n",
       "3       en\n",
       "4       en"
      ]
     },
     "execution_count": 51,
     "metadata": {},
     "output_type": "execute_result"
    }
   ],
   "source": [
    "languages_df = pd.DataFrame(detected_languages, columns=[\"language\"])\n",
    "languages_df.head()"
   ]
  },
  {
   "cell_type": "code",
   "execution_count": 52,
   "metadata": {},
   "outputs": [],
   "source": [
    "languages_df.to_csv(\"./detected_languages.csv\", index=False, encoding=\"UTF-8\")"
   ]
  }
 ],
 "metadata": {
  "kernelspec": {
   "display_name": "Python 3",
   "language": "python",
   "name": "python3"
  },
  "language_info": {
   "codemirror_mode": {
    "name": "ipython",
    "version": 3
   },
   "file_extension": ".py",
   "mimetype": "text/x-python",
   "name": "python",
   "nbconvert_exporter": "python",
   "pygments_lexer": "ipython3",
   "version": "3.6.4"
  }
 },
 "nbformat": 4,
 "nbformat_minor": 2
}
