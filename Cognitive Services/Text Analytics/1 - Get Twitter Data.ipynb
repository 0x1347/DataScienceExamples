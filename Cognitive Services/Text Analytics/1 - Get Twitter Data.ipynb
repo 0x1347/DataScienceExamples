{
 "cells": [
  {
   "cell_type": "markdown",
   "metadata": {},
   "source": [
    "# Get Twitter Data"
   ]
  },
  {
   "cell_type": "code",
   "execution_count": 71,
   "metadata": {},
   "outputs": [],
   "source": [
    "import tweepy\n",
    "import pandas as pd\n",
    "import matplotlib.pyplot as plt\n",
    "import seaborn as sns\n",
    "import numpy as np\n",
    "import json\n",
    "\n",
    "sns.set()\n",
    "%matplotlib inline\n",
    "\n",
    "#sns.set_style(\"dark\") # If on the dark theme of Jupyter, this makes plots easier to read"
   ]
  },
  {
   "cell_type": "code",
   "execution_count": 72,
   "metadata": {},
   "outputs": [],
   "source": [
    "config = json.load(open(\"config.json\"))"
   ]
  },
  {
   "cell_type": "code",
   "execution_count": 73,
   "metadata": {},
   "outputs": [],
   "source": [
    "auth = tweepy.OAuthHandler(config[\"twitterConsumerKey\"], config[\"twitterConsumerSecretKey\"])"
   ]
  },
  {
   "cell_type": "code",
   "execution_count": 74,
   "metadata": {},
   "outputs": [
    {
     "data": {
      "text/plain": [
       "'https://api.twitter.com/oauth/authorize?oauth_token=LZ3K3wAAAAAA4GFeAAABYgdWknU'"
      ]
     },
     "execution_count": 74,
     "metadata": {},
     "output_type": "execute_result"
    }
   ],
   "source": [
    "try:\n",
    "    redirect_url = auth.get_authorization_url()\n",
    "except tweepy.TweepError:\n",
    "    print('Error! Failed to get request token.')\n",
    "    \n",
    "redirect_url"
   ]
  },
  {
   "cell_type": "code",
   "execution_count": null,
   "metadata": {},
   "outputs": [],
   "source": [
    "auth.get_access_token('pin number')"
   ]
  },
  {
   "cell_type": "code",
   "execution_count": 75,
   "metadata": {},
   "outputs": [],
   "source": [
    "api = tweepy.API(auth)"
   ]
  },
  {
   "cell_type": "code",
   "execution_count": 76,
   "metadata": {},
   "outputs": [],
   "source": [
    "wintellect_search = api.search(\"Wintellect\", count=100)"
   ]
  },
  {
   "cell_type": "code",
   "execution_count": null,
   "metadata": {},
   "outputs": [],
   "source": [
    "dir(wintellect_search[0])"
   ]
  },
  {
   "cell_type": "code",
   "execution_count": 77,
   "metadata": {},
   "outputs": [],
   "source": [
    "search_dict = {\"text\": [], \"author\": [], \"created_date\": []}\n",
    "\n",
    "for item in wintellect_search:\n",
    "    if not item.retweet or \"RT\" not in item.text:\n",
    "        search_dict[\"text\"].append(item.text)\n",
    "        search_dict[\"author\"].append(item.author.name)\n",
    "        search_dict[\"created_date\"].append(item.created_at)"
   ]
  },
  {
   "cell_type": "code",
   "execution_count": 81,
   "metadata": {},
   "outputs": [],
   "source": [
    "df = pd.DataFrame.from_dict(search_dict)"
   ]
  },
  {
   "cell_type": "code",
   "execution_count": 82,
   "metadata": {},
   "outputs": [
    {
     "data": {
      "text/plain": [
       "(33, 3)"
      ]
     },
     "execution_count": 82,
     "metadata": {},
     "output_type": "execute_result"
    }
   ],
   "source": [
    "df.shape"
   ]
  },
  {
   "cell_type": "code",
   "execution_count": 83,
   "metadata": {},
   "outputs": [
    {
     "data": {
      "text/html": [
       "<div>\n",
       "<style>\n",
       "    .dataframe thead tr:only-child th {\n",
       "        text-align: right;\n",
       "    }\n",
       "\n",
       "    .dataframe thead th {\n",
       "        text-align: left;\n",
       "    }\n",
       "\n",
       "    .dataframe tbody tr th {\n",
       "        vertical-align: top;\n",
       "    }\n",
       "</style>\n",
       "<table border=\"1\" class=\"dataframe\">\n",
       "  <thead>\n",
       "    <tr style=\"text-align: right;\">\n",
       "      <th></th>\n",
       "      <th>author</th>\n",
       "      <th>created_date</th>\n",
       "      <th>text</th>\n",
       "    </tr>\n",
       "  </thead>\n",
       "  <tbody>\n",
       "    <tr>\n",
       "      <th>0</th>\n",
       "      <td>WintellectNOW</td>\n",
       "      <td>2018-03-08 19:20:15</td>\n",
       "      <td>Host a Website with Azure Functions and Node.J...</td>\n",
       "    </tr>\n",
       "    <tr>\n",
       "      <th>1</th>\n",
       "      <td>Wintellect</td>\n",
       "      <td>2018-03-08 19:20:15</td>\n",
       "      <td>Host a Website with Azure Functions and Node.J...</td>\n",
       "    </tr>\n",
       "    <tr>\n",
       "      <th>2</th>\n",
       "      <td>d̴̛̛͖̜͐̌̀̏̍̂̂̉̏͋ubdo̴̰͇͙̭̱͔͊͜bdee̴̬̯̣̱̟̲̅</td>\n",
       "      <td>2018-03-08 19:15:02</td>\n",
       "      <td>pessimism of the wintellect,, optimism of the ...</td>\n",
       "    </tr>\n",
       "    <tr>\n",
       "      <th>3</th>\n",
       "      <td>Ted Petrou</td>\n",
       "      <td>2018-03-08 18:59:16</td>\n",
       "      <td>About to go live! https://t.co/Z5Ar5R8M8K</td>\n",
       "    </tr>\n",
       "    <tr>\n",
       "      <th>4</th>\n",
       "      <td>d̴̛̛͖̜͐̌̀̏̍̂̂̉̏͋ubdo̴̰͇͙̭̱͔͊͜bdee̴̬̯̣̱̟̲̅</td>\n",
       "      <td>2018-03-08 16:35:41</td>\n",
       "      <td>@PRHRoy pessimism of the wintellect,, optimism...</td>\n",
       "    </tr>\n",
       "  </tbody>\n",
       "</table>\n",
       "</div>"
      ],
      "text/plain": [
       "                                      author        created_date  \\\n",
       "0                              WintellectNOW 2018-03-08 19:20:15   \n",
       "1                                 Wintellect 2018-03-08 19:20:15   \n",
       "2  d̴̛̛͖̜͐̌̀̏̍̂̂̉̏͋ubdo̴̰͇͙̭̱͔͊͜bdee̴̬̯̣̱̟̲̅ 2018-03-08 19:15:02   \n",
       "3                                 Ted Petrou 2018-03-08 18:59:16   \n",
       "4  d̴̛̛͖̜͐̌̀̏̍̂̂̉̏͋ubdo̴̰͇͙̭̱͔͊͜bdee̴̬̯̣̱̟̲̅ 2018-03-08 16:35:41   \n",
       "\n",
       "                                                text  \n",
       "0  Host a Website with Azure Functions and Node.J...  \n",
       "1  Host a Website with Azure Functions and Node.J...  \n",
       "2  pessimism of the wintellect,, optimism of the ...  \n",
       "3          About to go live! https://t.co/Z5Ar5R8M8K  \n",
       "4  @PRHRoy pessimism of the wintellect,, optimism...  "
      ]
     },
     "execution_count": 83,
     "metadata": {},
     "output_type": "execute_result"
    }
   ],
   "source": [
    "df.head()"
   ]
  },
  {
   "cell_type": "code",
   "execution_count": 70,
   "metadata": {},
   "outputs": [],
   "source": [
    "df.to_csv(\"./tweets.csv\", index=False, encoding=\"UTF-8\")"
   ]
  }
 ],
 "metadata": {
  "kernelspec": {
   "display_name": "Python 3",
   "language": "python",
   "name": "python3"
  },
  "language_info": {
   "codemirror_mode": {
    "name": "ipython",
    "version": 3
   },
   "file_extension": ".py",
   "mimetype": "text/x-python",
   "name": "python",
   "nbconvert_exporter": "python",
   "pygments_lexer": "ipython3",
   "version": "3.6.4"
  }
 },
 "nbformat": 4,
 "nbformat_minor": 2
}
